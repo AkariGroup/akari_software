{
 "cells": [
  {
   "cell_type": "code",
   "execution_count": null,
   "metadata": {},
   "outputs": [],
   "source": [
    "import cv2\n",
    "import depthai as dai\n",
    "%matplotlib inline\n",
    "import matplotlib.pyplot as plt\n",
    "from IPython.display import display, Image\n",
    "\n",
    "pipeline = dai.Pipeline()\n",
    "cam_rgb = pipeline.createColorCamera()\n",
    "cam_rgb.setPreviewSize(640, 480)\n",
    "cam_rgb.setInterleaved(False)\n",
    "\n",
    "xout_rgb = pipeline.createXLinkOut()\n",
    "xout_rgb.setStreamName(\"rgb\")\n",
    "cam_rgb.preview.link(xout_rgb.input)\n",
    "\n",
    "display_handle=display(None, display_id=True)\n",
    "while(True):\n",
    "    with dai.Device(pipeline) as device:\n",
    "        queueRgb = device.getOutputQueue(\"rgb\", maxSize=4, blocking=False)\n",
    "        frame = None\n",
    "        while True:\n",
    "            inRgb = queueRgb.tryGet()\n",
    "            if inRgb is not None:\n",
    "                frame = inRgb.getCvFrame()\n",
    "            if frame is not None:\n",
    "                rows, columns, _ = frame.shape\n",
    "                resizedFrame = cv2.resize(frame, (int(columns/2), int(rows/2)))\n",
    "                _, jpg = cv2.imencode('.jpeg', resizedFrame)\n",
    "                display_handle.update(Image(data=jpg.tobytes()))"
   ]
  }
 ],
 "metadata": {
  "language_info": {
   "name": "python"
  }
 },
 "nbformat": 4,
 "nbformat_minor": 5
}
