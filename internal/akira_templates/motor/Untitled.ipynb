{
 "cells": [
  {
   "cell_type": "code",
   "execution_count": null,
   "metadata": {},
   "outputs": [],
   "source": [
    "import time\n",
    "from akari_client import AkariClient\n",
    "akari = AkariClient()\n",
    "joints = akari.joints\n",
    "\n",
    "joints.set_joint_velocities(pan=5,tilt=5)\n",
    "joints.enable_all_servo()\n",
    "\n",
    "joints.move_joint_positions(pan=0.5, tilt=0.3,sync=True)\n",
    "time.sleep(1)\n",
    "joints.move_joint_positions(pan=0, tilt=0)"
   ]
  }
 ],
 "metadata": {
  "language_info": {
   "name": "python"
  }
 },
 "nbformat": 4,
 "nbformat_minor": 5
}
