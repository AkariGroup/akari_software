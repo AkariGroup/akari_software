{
 "cells": [
  {
   "cell_type": "code",
   "execution_count": null,
   "metadata": {},
   "outputs": [],
   "source": [
    "import time\n",
    "from akari_client import AkariClient\n",
    "\n",
    "akari = AkariClient()\n",
    "m5 = akari.m5stack\n",
    "\n",
    "data = m5.get()\n",
    "print(\"Button A:\" + str(data[\"button_a\"]) + \", Button B: \" + str(data[\"button_b\"]) + \", Button C: \" + str(data[\"button_c\"]))"
   ]
  }
 ],
 "metadata": {
  "language_info": {
   "name": "python"
  }
 },
 "nbformat": 4,
 "nbformat_minor": 5
}
