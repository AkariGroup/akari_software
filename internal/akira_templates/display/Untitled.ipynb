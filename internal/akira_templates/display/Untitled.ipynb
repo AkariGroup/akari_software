{
 "cells": [
  {
   "cell_type": "code",
   "execution_count": null,
   "metadata": {},
   "outputs": [],
   "source": [
    "import time\n",
    "from akari_client import AkariClient\n",
    "from akari_client.position import Positions\n",
    "from akari_client.color import Colors, Color\n",
    "\n",
    "akari = AkariClient()\n",
    "m5 = akari.m5stack\n",
    "\n",
    "\n",
    "m5.set_display_color(Colors.BLACK)\n",
    "time.sleep(0.5)\n",
    "m5.set_display_text(text=\"HELLO!\",text_color=Colors.WHITE,size=9)\n",
    "time.sleep(0.5)\n",
    "m5.set_display_text(text=\"AKARI\",text_color=Colors.RED,back_color=Colors.WHITE,pos_x=Positions.RIGHT,pos_y=Positions.BOTTOM,size=3,refresh=False)\n",
    "time.sleep(2)\n",
    "m5.set_display_image(\"/jpg/logo320.jpg\")"
   ]
  }
 ],
 "metadata": {
  "language_info": {
   "name": "python"
  }
 },
 "nbformat": 4,
 "nbformat_minor": 5
}
