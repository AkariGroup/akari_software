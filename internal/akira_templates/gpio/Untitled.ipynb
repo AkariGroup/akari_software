{
 "cells": [
  {
   "cell_type": "code",
   "execution_count": null,
   "metadata": {},
   "outputs": [],
   "source": [
    "import time\n",
    "from akari_client import AkariClient\n",
    "\n",
    "akari = AkariClient()\n",
    "m5 = akari.m5stack\n",
    "\n",
    "data = m5.get()\n",
    "print(\"din0:\" + str(data[\"din0\"]) + \", din1: \" + str(data[\"din1\"]) + \", ain0: \" + str(data[\"ain0\"]))\n",
    "time.sleep(0.5)\n",
    "\n",
    "m5.set_dout(pin_id=0,value=True)\n",
    "time.sleep(1)\n",
    "m5.set_dout(pin_id=1,value=True)\n",
    "time.sleep(1)\n",
    "m5.set_pwmout(pin_id=0,value=200)\n",
    "time.sleep(1)\n",
    "m5.set_allout(dout0=False,dout1=False,pwmout0=0)"
   ]
  }
 ],
 "metadata": {
  "language_info": {
   "name": "python"
  }
 },
 "nbformat": 4,
 "nbformat_minor": 5
}
