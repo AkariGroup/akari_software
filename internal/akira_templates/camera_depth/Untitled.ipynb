{
 "cells": [
  {
   "cell_type": "code",
   "execution_count": null,
   "metadata": {},
   "outputs": [],
   "source": [
    "import cv2\n",
    "import numpy\n",
    "import depthai as dai\n",
    "%matplotlib inline\n",
    "import matplotlib.pyplot as plt\n",
    "import ipywidgets as widgets\n",
    "from IPython.display import display, Image\n",
    "\n",
    "MAX_DEPTH = 1500.0  # unit: [mm]\n",
    "\n",
    "pipeline = dai.Pipeline()\n",
    "\n",
    "cam_left = pipeline.create(dai.node.MonoCamera)\n",
    "cam_left.setResolution(dai.MonoCameraProperties.SensorResolution.THE_480_P)\n",
    "cam_right = pipeline.create(dai.node.MonoCamera)\n",
    "cam_right.setResolution(dai.MonoCameraProperties.SensorResolution.THE_480_P)\n",
    "stereo = pipeline.create(dai.node.StereoDepth)\n",
    "xout_depth = pipeline.create(dai.node.XLinkOut)\n",
    "xout_depth.setStreamName(\"depth\")\n",
    "\n",
    "cam_left.out.link(stereo.left)\n",
    "cam_right.out.link(stereo.right)\n",
    "stereo.depth.link(xout_depth.input)\n",
    "\n",
    "display_handle=display(None, display_id=True)\n",
    "while(True):\n",
    "    with dai.Device(pipeline) as device:\n",
    "        queueDepth = device.getOutputQueue(name=\"depth\", maxSize=4, blocking=False)\n",
    "        while True:\n",
    "            inDepth = queueDepth.tryGet()\n",
    "            depth = None\n",
    "            if inDepth is not None:\n",
    "                depth = inDepth.getCvFrame()\n",
    "            if depth is not None:\n",
    "                depth[numpy.where(depth > MAX_DEPTH)] = 0\n",
    "                norm_depth = (depth * (255 / MAX_DEPTH)).astype(numpy.uint8)\n",
    "                colored_depth: numpy.ndarray = cv2.applyColorMap(norm_depth, cv2.COLORMAP_JET)\n",
    "                rows, columns, _ = colored_depth.shape\n",
    "                colored_depth = cv2.resize(colored_depth, (int(columns/2), int(rows/2)))\n",
    "                _, jpg = cv2.imencode('.jpeg', colored_depth)\n",
    "                display_handle.update(Image(data=jpg.tobytes()))"
   ]
  }
 ],
 "metadata": {
  "language_info": {
   "name": "python"
  }
 },
 "nbformat": 4,
 "nbformat_minor": 5
}
