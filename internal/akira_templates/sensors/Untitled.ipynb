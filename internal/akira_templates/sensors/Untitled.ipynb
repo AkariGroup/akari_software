{
 "cells": [
  {
   "cell_type": "code",
   "execution_count": null,
   "metadata": {},
   "outputs": [],
   "source": [
    "from akari_client import AkariClient\n",
    "\n",
    "akari = AkariClient()\n",
    "m5 = akari.m5stack\n",
    "\n",
    "data = m5.get()\n",
    "print(\"Temperature: \" + str(data[\"temperature\"]) + \"℃\")\n",
    "print(\"Pressure: \" + str(data[\"pressure\"]) + \"Pa\")\n",
    "print(\"Brightness: \" + str(data[\"brightness\"]))"
   ]
  }
 ],
 "metadata": {
  "language_info": {
   "name": "python"
  }
 },
 "nbformat": 4,
 "nbformat_minor": 5
}
